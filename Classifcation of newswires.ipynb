{
 "cells": [
  {
   "cell_type": "markdown",
   "metadata": {},
   "source": [
    "## Problem 1\n",
    "## In this example, we will verify the accuracy of classification of newswires with different numbers of epochs and at the end we will add L2 regularization"
   ]
  },
  {
   "cell_type": "code",
   "execution_count": 2,
   "metadata": {},
   "outputs": [
    {
     "data": {
      "text/plain": [
       "'2.1.4'"
      ]
     },
     "execution_count": 2,
     "metadata": {},
     "output_type": "execute_result"
    }
   ],
   "source": [
    "import keras\n",
    "keras.__version__"
   ]
  },
  {
   "cell_type": "code",
   "execution_count": 3,
   "metadata": {},
   "outputs": [],
   "source": [
    "from keras.datasets import reuters\n",
    "\n",
    "(train_data, train_labels), (test_data, test_labels) = reuters.load_data(num_words=1000)"
   ]
  },
  {
   "cell_type": "code",
   "execution_count": 521,
   "metadata": {},
   "outputs": [
    {
     "data": {
      "text/plain": [
       "(8982,)"
      ]
     },
     "execution_count": 521,
     "metadata": {},
     "output_type": "execute_result"
    }
   ],
   "source": [
    "train_labels.shape"
   ]
  },
  {
   "cell_type": "code",
   "execution_count": 4,
   "metadata": {},
   "outputs": [],
   "source": [
    "word_index = reuters.get_word_index()\n",
    "reverse_word_index = dict([(value, key) for (key, value) in word_index.items()])\n",
    "# Note that our indices were offset by 3\n",
    "# because 0, 1 and 2 are reserved indices for \"padding\", \"start of sequence\", and \"unknown\".\n",
    "decoded_newswire = ' '.join([reverse_word_index.get(i - 3, '?') for i in train_data[0]])"
   ]
  },
  {
   "cell_type": "code",
   "execution_count": 5,
   "metadata": {},
   "outputs": [
    {
     "data": {
      "text/plain": [
       "'? ? ? said as a result of its december acquisition of ? co it expects earnings per share in 1987 of 1 15 to 1 30 dlrs per share up from 70 cts in 1986 the company said pretax net should rise to nine to 10 mln dlrs from six mln dlrs in 1986 and ? ? revenues to 19 to 22 mln dlrs from 12 5 mln dlrs it said cash ? per share this year should be 2 50 to three dlrs reuter 3'"
      ]
     },
     "execution_count": 5,
     "metadata": {},
     "output_type": "execute_result"
    }
   ],
   "source": [
    "decoded_newswire"
   ]
  },
  {
   "cell_type": "markdown",
   "metadata": {},
   "source": [
    "## Preparing the data\n",
    "We can vectorize the data with the exact same code as in our previous example:"
   ]
  },
  {
   "cell_type": "code",
   "execution_count": 9,
   "metadata": {},
   "outputs": [],
   "source": [
    "import numpy as np\n",
    "\n",
    "def vectorize_sequences(sequences, dimension=10000):\n",
    "    results = np.zeros((len(sequences), dimension))\n",
    "    for i, sequence in enumerate(sequences):\n",
    "        results[i, sequence] = 1.\n",
    "    return results\n",
    "\n",
    "# Our vectorized training data\n",
    "x_train = vectorize_sequences(train_data)\n",
    "# Our vectorized test data\n",
    "x_test = vectorize_sequences(test_data)"
   ]
  },
  {
   "cell_type": "code",
   "execution_count": 10,
   "metadata": {},
   "outputs": [],
   "source": [
    "def to_one_hot(labels, dimension=46):\n",
    "    results = np.zeros((len(labels), dimension))\n",
    "    for i, label in enumerate(labels):\n",
    "        results[i, label] = 1.\n",
    "    return results\n",
    "\n",
    "# Our vectorized training labels\n",
    "one_hot_train_labels = to_one_hot(train_labels)\n",
    "# Our vectorized test labels\n",
    "one_hot_test_labels = to_one_hot(test_labels)"
   ]
  },
  {
   "cell_type": "code",
   "execution_count": 11,
   "metadata": {},
   "outputs": [],
   "source": [
    "from keras.utils.np_utils import to_categorical\n",
    "\n",
    "one_hot_train_labels = to_categorical(train_labels)\n",
    "one_hot_test_labels = to_categorical(test_labels)"
   ]
  },
  {
   "cell_type": "markdown",
   "metadata": {},
   "source": [
    "## Building our network"
   ]
  },
  {
   "cell_type": "code",
   "execution_count": 19,
   "metadata": {},
   "outputs": [],
   "source": [
    "from keras import models\n",
    "from keras import layers\n",
    "\n",
    "model = models.Sequential()\n",
    "model.add(layers.Dense(64, activation='relu', input_shape=(10000,)))\n",
    "model.add(layers.Dense(64, activation='relu'))\n",
    "model.add(layers.Dense(46, activation='softmax'))\n",
    "model.compile(optimizer='rmsprop',\n",
    "              loss='categorical_crossentropy',\n",
    "              metrics=['accuracy'])"
   ]
  },
  {
   "cell_type": "code",
   "execution_count": 20,
   "metadata": {},
   "outputs": [],
   "source": [
    "model.compile(optimizer='rmsprop',\n",
    "              loss='categorical_crossentropy',\n",
    "              metrics=['accuracy'])"
   ]
  },
  {
   "cell_type": "code",
   "execution_count": 21,
   "metadata": {},
   "outputs": [],
   "source": [
    "x_val = x_train[:1000]\n",
    "partial_x_train = x_train[1000:]\n",
    "\n",
    "y_val = one_hot_train_labels[:1000]\n",
    "partial_y_train = one_hot_train_labels[1000:]"
   ]
  },
  {
   "cell_type": "markdown",
   "metadata": {},
   "source": [
    "## Testing with epochs=6"
   ]
  },
  {
   "cell_type": "code",
   "execution_count": 25,
   "metadata": {},
   "outputs": [
    {
     "name": "stdout",
     "output_type": "stream",
     "text": [
      "Train on 7982 samples, validate on 1000 samples\n",
      "Epoch 1/6\n",
      "7982/7982 [==============================] - 2s 301us/step - loss: 2.8077 - acc: 0.5130 - val_loss: 1.8922 - val_acc: 0.6150\n",
      "Epoch 2/6\n",
      "7982/7982 [==============================] - 2s 247us/step - loss: 1.6439 - acc: 0.6561 - val_loss: 1.4405 - val_acc: 0.6830\n",
      "Epoch 3/6\n",
      "7982/7982 [==============================] - 2s 249us/step - loss: 1.3371 - acc: 0.7075 - val_loss: 1.2767 - val_acc: 0.7020\n",
      "Epoch 4/6\n",
      "7982/7982 [==============================] - 2s 247us/step - loss: 1.1721 - acc: 0.7412 - val_loss: 1.1785 - val_acc: 0.7320\n",
      "Epoch 5/6\n",
      "7982/7982 [==============================] - 2s 249us/step - loss: 1.0513 - acc: 0.7679 - val_loss: 1.0987 - val_acc: 0.7550\n",
      "Epoch 6/6\n",
      "7982/7982 [==============================] - 2s 251us/step - loss: 0.9622 - acc: 0.7870 - val_loss: 1.0515 - val_acc: 0.7670\n",
      "2246/2246 [==============================] - 1s 230us/step\n"
     ]
    }
   ],
   "source": [
    "model = models.Sequential()\n",
    "model.add(layers.Dense(64, activation='relu', input_shape=(10000,)))\n",
    "model.add(layers.Dense(64, activation='relu'))\n",
    "model.add(layers.Dense(46, activation='softmax'))\n",
    "\n",
    "model.compile(optimizer='rmsprop',\n",
    "              loss='categorical_crossentropy',\n",
    "              metrics=['accuracy'])\n",
    "model.fit(partial_x_train,\n",
    "          partial_y_train,\n",
    "          epochs=6,\n",
    "          batch_size=512,\n",
    "          validation_data=(x_val, y_val))\n",
    "results = model.evaluate(x_test, one_hot_test_labels)"
   ]
  },
  {
   "cell_type": "code",
   "execution_count": 26,
   "metadata": {},
   "outputs": [
    {
     "data": {
      "text/plain": [
       "[1.121917981073884, 0.7493321460639379]"
      ]
     },
     "execution_count": 26,
     "metadata": {},
     "output_type": "execute_result"
    }
   ],
   "source": [
    "results"
   ]
  },
  {
   "cell_type": "markdown",
   "metadata": {},
   "source": [
    "We can see an accuracy of 74%"
   ]
  },
  {
   "cell_type": "markdown",
   "metadata": {},
   "source": [
    "## Testing with epochs=8"
   ]
  },
  {
   "cell_type": "code",
   "execution_count": 41,
   "metadata": {},
   "outputs": [
    {
     "name": "stdout",
     "output_type": "stream",
     "text": [
      "Train on 7982 samples, validate on 1000 samples\n",
      "Epoch 1/8\n",
      "7982/7982 [==============================] - 3s 328us/step - loss: 2.8042 - acc: 0.5163 - val_loss: 1.9094 - val_acc: 0.6200\n",
      "Epoch 2/8\n",
      "7982/7982 [==============================] - 2s 250us/step - loss: 1.6251 - acc: 0.6642 - val_loss: 1.4332 - val_acc: 0.6820\n",
      "Epoch 3/8\n",
      "7982/7982 [==============================] - 2s 245us/step - loss: 1.3168 - acc: 0.7144 - val_loss: 1.2582 - val_acc: 0.7190\n",
      "Epoch 4/8\n",
      "7982/7982 [==============================] - 2s 250us/step - loss: 1.1653 - acc: 0.7444 - val_loss: 1.1953 - val_acc: 0.7230\n",
      "Epoch 5/8\n",
      "7982/7982 [==============================] - 2s 247us/step - loss: 1.0560 - acc: 0.7645 - val_loss: 1.1173 - val_acc: 0.7490\n",
      "Epoch 6/8\n",
      "7982/7982 [==============================] - 2s 247us/step - loss: 0.9583 - acc: 0.7838 - val_loss: 1.0666 - val_acc: 0.7550\n",
      "Epoch 7/8\n",
      "7982/7982 [==============================] - ETA: 0s - loss: 0.8805 - acc: 0.796 - 2s 251us/step - loss: 0.8810 - acc: 0.7970 - val_loss: 1.0150 - val_acc: 0.7840\n",
      "Epoch 8/8\n",
      "7982/7982 [==============================] - 2s 246us/step - loss: 0.8137 - acc: 0.8127 - val_loss: 0.9985 - val_acc: 0.7770\n",
      "2246/2246 [==============================] - 1s 244us/step\n"
     ]
    }
   ],
   "source": [
    "model = models.Sequential()\n",
    "model.add(layers.Dense(64, activation='relu', input_shape=(10000,)))\n",
    "model.add(layers.Dense(64, activation='relu'))\n",
    "model.add(layers.Dense(46, activation='softmax'))\n",
    "\n",
    "model.compile(optimizer='rmsprop',\n",
    "              loss='categorical_crossentropy',\n",
    "              metrics=['accuracy'])\n",
    "model.fit(partial_x_train,\n",
    "          partial_y_train,\n",
    "          epochs=8,\n",
    "          batch_size=512,\n",
    "          validation_data=(x_val, y_val))\n",
    "results = model.evaluate(x_test, one_hot_test_labels)"
   ]
  },
  {
   "cell_type": "code",
   "execution_count": 42,
   "metadata": {},
   "outputs": [
    {
     "data": {
      "text/plain": [
       "[1.0605277361237142, 0.7537845057880677]"
      ]
     },
     "execution_count": 42,
     "metadata": {},
     "output_type": "execute_result"
    }
   ],
   "source": [
    "results"
   ]
  },
  {
   "cell_type": "markdown",
   "metadata": {},
   "source": [
    "We can see an accuracy of 75%"
   ]
  },
  {
   "cell_type": "markdown",
   "metadata": {},
   "source": [
    "## Testing with epochs=10"
   ]
  },
  {
   "cell_type": "code",
   "execution_count": 167,
   "metadata": {},
   "outputs": [
    {
     "name": "stdout",
     "output_type": "stream",
     "text": [
      "Train on 7982 samples, validate on 1000 samples\n",
      "Epoch 1/10\n",
      "7982/7982 [==============================] - 4s 535us/step - loss: 2.7227 - acc: 0.4669 - val_loss: 1.8889 - val_acc: 0.6210\n",
      "Epoch 2/10\n",
      "7982/7982 [==============================] - 2s 294us/step - loss: 1.6459 - acc: 0.6636 - val_loss: 1.4596 - val_acc: 0.6800\n",
      "Epoch 3/10\n",
      "7982/7982 [==============================] - 2s 294us/step - loss: 1.3536 - acc: 0.7058 - val_loss: 1.2967 - val_acc: 0.7170\n",
      "Epoch 4/10\n",
      "7982/7982 [==============================] - 2s 291us/step - loss: 1.1852 - acc: 0.7424 - val_loss: 1.1776 - val_acc: 0.7430\n",
      "Epoch 5/10\n",
      "7982/7982 [==============================] - 2s 295us/step - loss: 1.0642 - acc: 0.7657 - val_loss: 1.1338 - val_acc: 0.7530\n",
      "Epoch 6/10\n",
      "7982/7982 [==============================] - 2s 313us/step - loss: 0.9685 - acc: 0.7843 - val_loss: 1.0636 - val_acc: 0.7650\n",
      "Epoch 7/10\n",
      "7982/7982 [==============================] - 2s 296us/step - loss: 0.8840 - acc: 0.7979 - val_loss: 1.0171 - val_acc: 0.7690\n",
      "Epoch 8/10\n",
      "7982/7982 [==============================] - 3s 338us/step - loss: 0.8148 - acc: 0.8123 - val_loss: 0.9979 - val_acc: 0.7820\n",
      "Epoch 9/10\n",
      "7982/7982 [==============================] - 3s 372us/step - loss: 0.7498 - acc: 0.8251 - val_loss: 0.9716 - val_acc: 0.7790\n",
      "Epoch 10/10\n",
      "7982/7982 [==============================] - 2s 311us/step - loss: 0.6940 - acc: 0.8395 - val_loss: 0.9415 - val_acc: 0.7890\n",
      "2246/2246 [==============================] - 1s 319us/step\n"
     ]
    }
   ],
   "source": [
    "model = models.Sequential()\n",
    "model.add(layers.Dense(64, activation='relu', input_shape=(10000,)))\n",
    "model.add(layers.Dense(64, activation='relu'))\n",
    "model.add(layers.Dense(46, activation='softmax'))\n",
    "\n",
    "model.compile(optimizer='rmsprop',\n",
    "              loss='categorical_crossentropy',\n",
    "              metrics=['accuracy'])\n",
    "model.fit(partial_x_train,\n",
    "          partial_y_train,\n",
    "          epochs=10,\n",
    "          batch_size=512,\n",
    "          validation_data=(x_val, y_val))\n",
    "results = model.evaluate(x_test, one_hot_test_labels)"
   ]
  },
  {
   "cell_type": "code",
   "execution_count": 59,
   "metadata": {},
   "outputs": [
    {
     "data": {
      "text/plain": [
       "[0.9808251796189101, 0.7680320569902048]"
      ]
     },
     "execution_count": 59,
     "metadata": {},
     "output_type": "execute_result"
    }
   ],
   "source": [
    "results"
   ]
  },
  {
   "cell_type": "markdown",
   "metadata": {},
   "source": [
    "We can see an accuracy of 76%"
   ]
  },
  {
   "cell_type": "markdown",
   "metadata": {},
   "source": [
    "## Testing with epochs=15"
   ]
  },
  {
   "cell_type": "code",
   "execution_count": 65,
   "metadata": {},
   "outputs": [
    {
     "name": "stdout",
     "output_type": "stream",
     "text": [
      "Train on 7982 samples, validate on 1000 samples\n",
      "Epoch 1/15\n",
      "7982/7982 [==============================] - 3s 361us/step - loss: 2.6354 - acc: 0.4432 - val_loss: 1.7986 - val_acc: 0.6210\n",
      "Epoch 2/15\n",
      "7982/7982 [==============================] - 2s 255us/step - loss: 1.5796 - acc: 0.6656 - val_loss: 1.4213 - val_acc: 0.6930\n",
      "Epoch 3/15\n",
      "7982/7982 [==============================] - 2s 252us/step - loss: 1.3090 - acc: 0.7147 - val_loss: 1.2752 - val_acc: 0.7200\n",
      "Epoch 4/15\n",
      "7982/7982 [==============================] - 2s 261us/step - loss: 1.1580 - acc: 0.7409 - val_loss: 1.1757 - val_acc: 0.7340\n",
      "Epoch 5/15\n",
      "7982/7982 [==============================] - 2s 252us/step - loss: 1.0399 - acc: 0.7617 - val_loss: 1.1430 - val_acc: 0.7460\n",
      "Epoch 6/15\n",
      "7982/7982 [==============================] - 2s 252us/step - loss: 0.9489 - acc: 0.7840 - val_loss: 1.0761 - val_acc: 0.7550\n",
      "Epoch 7/15\n",
      "7982/7982 [==============================] - 2s 251us/step - loss: 0.8655 - acc: 0.7995 - val_loss: 1.0276 - val_acc: 0.7710\n",
      "Epoch 8/15\n",
      "7982/7982 [==============================] - 2s 256us/step - loss: 0.7971 - acc: 0.8118 - val_loss: 1.0269 - val_acc: 0.7670\n",
      "Epoch 9/15\n",
      "7982/7982 [==============================] - 2s 252us/step - loss: 0.7292 - acc: 0.8275 - val_loss: 0.9750 - val_acc: 0.7830\n",
      "Epoch 10/15\n",
      "7982/7982 [==============================] - 2s 259us/step - loss: 0.6690 - acc: 0.8410 - val_loss: 0.9602 - val_acc: 0.7850\n",
      "Epoch 11/15\n",
      "7982/7982 [==============================] - 2s 271us/step - loss: 0.6216 - acc: 0.8514 - val_loss: 0.9612 - val_acc: 0.7940\n",
      "Epoch 12/15\n",
      "7982/7982 [==============================] - 2s 254us/step - loss: 0.5825 - acc: 0.8603 - val_loss: 0.9559 - val_acc: 0.7830\n",
      "Epoch 13/15\n",
      "7982/7982 [==============================] - 2s 257us/step - loss: 0.5288 - acc: 0.8736 - val_loss: 0.9245 - val_acc: 0.7940\n",
      "Epoch 14/15\n",
      "7982/7982 [==============================] - 2s 269us/step - loss: 0.4968 - acc: 0.8805 - val_loss: 0.9382 - val_acc: 0.8010\n",
      "Epoch 15/15\n",
      "7982/7982 [==============================] - 2s 256us/step - loss: 0.4636 - acc: 0.8940 - val_loss: 0.9498 - val_acc: 0.7950\n",
      "2246/2246 [==============================] - 1s 247us/step\n"
     ]
    }
   ],
   "source": [
    "model = models.Sequential()\n",
    "model.add(layers.Dense(64, activation='relu', input_shape=(10000,)))\n",
    "model.add(layers.Dense(64, activation='relu'))\n",
    "model.add(layers.Dense(46, activation='softmax'))\n",
    "\n",
    "model.compile(optimizer='rmsprop',\n",
    "              loss='categorical_crossentropy',\n",
    "              metrics=['accuracy'])\n",
    "model.fit(partial_x_train,\n",
    "          partial_y_train,\n",
    "          epochs=15,\n",
    "          batch_size=512,\n",
    "          validation_data=(x_val, y_val))\n",
    "results = model.evaluate(x_test, one_hot_test_labels)"
   ]
  },
  {
   "cell_type": "code",
   "execution_count": 66,
   "metadata": {},
   "outputs": [
    {
     "data": {
      "text/plain": [
       "[0.9950239666847915, 0.7662511130899377]"
      ]
     },
     "execution_count": 66,
     "metadata": {},
     "output_type": "execute_result"
    }
   ],
   "source": [
    "results"
   ]
  },
  {
   "cell_type": "markdown",
   "metadata": {},
   "source": [
    "We can also see an accuracy of 76%"
   ]
  },
  {
   "cell_type": "markdown",
   "metadata": {},
   "source": [
    "## Testing with epochs=20"
   ]
  },
  {
   "cell_type": "code",
   "execution_count": 375,
   "metadata": {},
   "outputs": [
    {
     "name": "stdout",
     "output_type": "stream",
     "text": [
      "Train on 7982 samples, validate on 1000 samples\n",
      "Epoch 1/20\n",
      "7982/7982 [==============================] - 6s 710us/step - loss: 2.9491 - acc: 0.5085 - val_loss: 2.0301 - val_acc: 0.6220\n",
      "Epoch 2/20\n",
      "7982/7982 [==============================] - 2s 285us/step - loss: 1.6883 - acc: 0.6641 - val_loss: 1.4710 - val_acc: 0.6780\n",
      "Epoch 3/20\n",
      "7982/7982 [==============================] - 2s 267us/step - loss: 1.3228 - acc: 0.7184 - val_loss: 1.2595 - val_acc: 0.7230\n",
      "Epoch 4/20\n",
      "7982/7982 [==============================] - 2s 270us/step - loss: 1.1424 - acc: 0.7498 - val_loss: 1.1707 - val_acc: 0.7410\n",
      "Epoch 5/20\n",
      "7982/7982 [==============================] - 2s 260us/step - loss: 1.0263 - acc: 0.7700 - val_loss: 1.0866 - val_acc: 0.7590\n",
      "Epoch 6/20\n",
      "7982/7982 [==============================] - 2s 265us/step - loss: 0.9283 - acc: 0.7908 - val_loss: 1.0533 - val_acc: 0.7630\n",
      "Epoch 7/20\n",
      "7982/7982 [==============================] - 2s 265us/step - loss: 0.8544 - acc: 0.8034 - val_loss: 1.0076 - val_acc: 0.7790\n",
      "Epoch 8/20\n",
      "7982/7982 [==============================] - 2s 258us/step - loss: 0.7853 - acc: 0.8175 - val_loss: 1.0140 - val_acc: 0.7640\n",
      "Epoch 9/20\n",
      "7982/7982 [==============================] - 2s 263us/step - loss: 0.7240 - acc: 0.8292 - val_loss: 0.9497 - val_acc: 0.7930\n",
      "Epoch 10/20\n",
      "7982/7982 [==============================] - 2s 260us/step - loss: 0.6750 - acc: 0.8428 - val_loss: 0.9660 - val_acc: 0.7860\n",
      "Epoch 11/20\n",
      "7982/7982 [==============================] - 2s 262us/step - loss: 0.6273 - acc: 0.8550 - val_loss: 0.9397 - val_acc: 0.7920\n",
      "Epoch 12/20\n",
      "7982/7982 [==============================] - 2s 267us/step - loss: 0.5833 - acc: 0.8662 - val_loss: 0.9486 - val_acc: 0.7900\n",
      "Epoch 13/20\n",
      "7982/7982 [==============================] - 2s 262us/step - loss: 0.5442 - acc: 0.8748 - val_loss: 0.9563 - val_acc: 0.7850\n",
      "Epoch 14/20\n",
      "7982/7982 [==============================] - 2s 271us/step - loss: 0.5106 - acc: 0.8812 - val_loss: 0.9039 - val_acc: 0.8010\n",
      "Epoch 15/20\n",
      "7982/7982 [==============================] - 2s 279us/step - loss: 0.4735 - acc: 0.8894 - val_loss: 0.9120 - val_acc: 0.8010\n",
      "Epoch 16/20\n",
      "7982/7982 [==============================] - 2s 259us/step - loss: 0.4520 - acc: 0.8948 - val_loss: 0.9001 - val_acc: 0.8080\n",
      "Epoch 17/20\n",
      "7982/7982 [==============================] - 2s 267us/step - loss: 0.4163 - acc: 0.9027 - val_loss: 0.9207 - val_acc: 0.7990\n",
      "Epoch 18/20\n",
      "7982/7982 [==============================] - 2s 258us/step - loss: 0.3967 - acc: 0.9068 - val_loss: 0.9175 - val_acc: 0.8070\n",
      "Epoch 19/20\n",
      "7982/7982 [==============================] - 2s 267us/step - loss: 0.3760 - acc: 0.9114 - val_loss: 0.9092 - val_acc: 0.8110\n",
      "Epoch 20/20\n",
      "7982/7982 [==============================] - 2s 277us/step - loss: 0.3511 - acc: 0.9178 - val_loss: 0.9370 - val_acc: 0.8030\n",
      "2246/2246 [==============================] - 1s 323us/step\n"
     ]
    }
   ],
   "source": [
    "    model = models.Sequential()\n",
    "    model.add(layers.Dense(64, activation='relu', input_shape=(10000,)))\n",
    "    model.add(layers.Dense(64, activation='relu'))\n",
    "    model.add(layers.Dense(46, activation='softmax'))\n",
    "\n",
    "    model.compile(optimizer='rmsprop',\n",
    "                  loss='categorical_crossentropy',\n",
    "                  metrics=['accuracy'])\n",
    "    model.fit(partial_x_train,\n",
    "              partial_y_train,\n",
    "              epochs=20,\n",
    "              batch_size=512,\n",
    "              validation_data=(x_val, y_val))\n",
    "    results = model.evaluate(x_test, one_hot_test_labels)"
   ]
  },
  {
   "cell_type": "code",
   "execution_count": 376,
   "metadata": {},
   "outputs": [
    {
     "data": {
      "text/plain": [
       "[0.9904016764803009, 0.7773820124666073]"
      ]
     },
     "execution_count": 376,
     "metadata": {},
     "output_type": "execute_result"
    }
   ],
   "source": [
    "results"
   ]
  },
  {
   "cell_type": "markdown",
   "metadata": {},
   "source": [
    "We can see an accuracy of 77%"
   ]
  },
  {
   "cell_type": "markdown",
   "metadata": {},
   "source": [
    "We can consider that 10 epochs is an optimal number to produce the maximum accuracy, if we increase the number of epochs the result will be always around 76%."
   ]
  },
  {
   "cell_type": "markdown",
   "metadata": {},
   "source": [
    "## Problem 2"
   ]
  },
  {
   "cell_type": "markdown",
   "metadata": {},
   "source": [
    "## Definition of parameters:"
   ]
  },
  {
   "cell_type": "code",
   "execution_count": 529,
   "metadata": {},
   "outputs": [],
   "source": [
    "import numpy as np\n",
    "\n",
    "all_scores = []\n",
    "def build_model():\n",
    "    model = models.Sequential()\n",
    "    model.add(layers.Dense(64, activation='relu', input_shape=(10000,)))\n",
    "    model.add(layers.Dense(64, activation='relu'))\n",
    "    model.add(layers.Dense(46, activation='softmax'))\n",
    "    model.compile(optimizer='rmsprop',loss='categorical_crossentropy', metrics=['accuracy'])\n",
    "    return model"
   ]
  },
  {
   "cell_type": "markdown",
   "metadata": {},
   "source": [
    "## Calculation of K-fold validation:"
   ]
  },
  {
   "cell_type": "code",
   "execution_count": 540,
   "metadata": {},
   "outputs": [
    {
     "name": "stdout",
     "output_type": "stream",
     "text": [
      "processing fold # 0\n",
      "Epoch 1/10\n",
      "1135/1135 [==============================] - 6s 5ms/step - loss: 3.8020 - acc: 0.1278\n",
      "Epoch 2/10\n",
      "1135/1135 [==============================] - 0s 320us/step - loss: 3.4010 - acc: 0.5304\n",
      "Epoch 3/10\n",
      "1135/1135 [==============================] - 0s 328us/step - loss: 2.9204 - acc: 0.5524\n",
      "Epoch 4/10\n",
      "1135/1135 [==============================] - 0s 329us/step - loss: 2.5172 - acc: 0.5841\n",
      "Epoch 5/10\n",
      "1135/1135 [==============================] - 0s 369us/step - loss: 2.2045 - acc: 0.6053\n",
      "Epoch 6/10\n",
      "1135/1135 [==============================] - 0s 373us/step - loss: 1.9484 - acc: 0.6344\n",
      "Epoch 7/10\n",
      "1135/1135 [==============================] - 0s 333us/step - loss: 1.7507 - acc: 0.6590\n",
      "Epoch 8/10\n",
      "1135/1135 [==============================] - 0s 332us/step - loss: 1.5983 - acc: 0.6722\n",
      "Epoch 9/10\n",
      "1135/1135 [==============================] - 0s 329us/step - loss: 1.4839 - acc: 0.6881\n",
      "Epoch 10/10\n",
      "1135/1135 [==============================] - 0s 358us/step - loss: 1.3717 - acc: 0.7154\n",
      "2246/2246 [==============================] - 3s 1ms/step\n",
      "processing fold # 1\n",
      "Epoch 1/10\n",
      "1135/1135 [==============================] - 5s 5ms/step - loss: 3.6527 - acc: 0.2705\n",
      "Epoch 2/10\n",
      "1135/1135 [==============================] - 0s 303us/step - loss: 2.9883 - acc: 0.4837\n",
      "Epoch 3/10\n",
      "1135/1135 [==============================] - 0s 296us/step - loss: 2.4743 - acc: 0.5463\n",
      "Epoch 4/10\n",
      "1135/1135 [==============================] - 0s 292us/step - loss: 2.1061 - acc: 0.5700\n",
      "Epoch 5/10\n",
      "1135/1135 [==============================] - 0s 298us/step - loss: 1.8598 - acc: 0.6018\n",
      "Epoch 6/10\n",
      "1135/1135 [==============================] - 0s 316us/step - loss: 1.6934 - acc: 0.6256\n",
      "Epoch 7/10\n",
      "1135/1135 [==============================] - 0s 315us/step - loss: 1.5446 - acc: 0.6590\n",
      "Epoch 8/10\n",
      "1135/1135 [==============================] - 0s 359us/step - loss: 1.4369 - acc: 0.6775\n",
      "Epoch 9/10\n",
      "1135/1135 [==============================] - 0s 349us/step - loss: 1.3284 - acc: 0.7048\n",
      "Epoch 10/10\n",
      "1135/1135 [==============================] - 0s 354us/step - loss: 1.2432 - acc: 0.7198\n",
      "2246/2246 [==============================] - 3s 1ms/step\n",
      "processing fold # 2\n",
      "Epoch 1/10\n",
      "1135/1135 [==============================] - 5s 5ms/step - loss: 3.7531 - acc: 0.2018\n",
      "Epoch 2/10\n",
      "1135/1135 [==============================] - 0s 341us/step - loss: 3.2309 - acc: 0.3762\n",
      "Epoch 3/10\n",
      "1135/1135 [==============================] - 0s 291us/step - loss: 2.6706 - acc: 0.4053\n",
      "Epoch 4/10\n",
      "1135/1135 [==============================] - 0s 303us/step - loss: 2.2575 - acc: 0.5348\n",
      "Epoch 5/10\n",
      "1135/1135 [==============================] - 0s 314us/step - loss: 1.9961 - acc: 0.5912\n",
      "Epoch 6/10\n",
      "1135/1135 [==============================] - 0s 306us/step - loss: 1.7830 - acc: 0.6097\n",
      "Epoch 7/10\n",
      "1135/1135 [==============================] - 0s 306us/step - loss: 1.6329 - acc: 0.6476\n",
      "Epoch 8/10\n",
      "1135/1135 [==============================] - 0s 316us/step - loss: 1.4863 - acc: 0.6740\n",
      "Epoch 9/10\n",
      "1135/1135 [==============================] - 0s 317us/step - loss: 1.3771 - acc: 0.6996\n",
      "Epoch 10/10\n",
      "1135/1135 [==============================] - 0s 337us/step - loss: 1.2881 - acc: 0.7198\n",
      "2246/2246 [==============================] - 3s 1ms/step\n",
      "processing fold # 3\n",
      "Epoch 1/10\n",
      "1135/1135 [==============================] - 5s 5ms/step - loss: 3.7426 - acc: 0.2449\n",
      "Epoch 2/10\n",
      "1135/1135 [==============================] - 0s 295us/step - loss: 3.2028 - acc: 0.5322\n",
      "Epoch 3/10\n",
      "1135/1135 [==============================] - 0s 296us/step - loss: 2.6747 - acc: 0.5348\n",
      "Epoch 4/10\n",
      "1135/1135 [==============================] - 0s 321us/step - loss: 2.2692 - acc: 0.5780\n",
      "Epoch 5/10\n",
      "1135/1135 [==============================] - 0s 353us/step - loss: 1.9826 - acc: 0.6035\n",
      "Epoch 6/10\n",
      "1135/1135 [==============================] - 0s 342us/step - loss: 1.7617 - acc: 0.6449\n",
      "Epoch 7/10\n",
      "1135/1135 [==============================] - 0s 341us/step - loss: 1.6013 - acc: 0.6899\n",
      "Epoch 8/10\n",
      "1135/1135 [==============================] - 0s 312us/step - loss: 1.4664 - acc: 0.7084\n",
      "Epoch 9/10\n",
      "1135/1135 [==============================] - 0s 312us/step - loss: 1.3562 - acc: 0.7278\n",
      "Epoch 10/10\n",
      "1135/1135 [==============================] - 0s 339us/step - loss: 1.2499 - acc: 0.7533\n",
      "2246/2246 [==============================] - 3s 1ms/step\n"
     ]
    }
   ],
   "source": [
    "k = 4\n",
    "num_val_samples = len(train_data) // k\n",
    "num_epochs = 10\n",
    "all_scores = []\n",
    "\n",
    "for i in range(k):\n",
    "    print('processing fold #', i)\n",
    "    model = build_model()\n",
    "    \n",
    "    model.fit(x_train[train_index], one_hot_train_labels[train_index], epochs=num_epochs, batch_size=512)    \n",
    "    results, results2 = model.evaluate(x_test, one_hot_test_labels)\n",
    "    all_scores.append(results2)"
   ]
  },
  {
   "cell_type": "code",
   "execution_count": 541,
   "metadata": {},
   "outputs": [
    {
     "data": {
      "text/plain": [
       "[0.625111309046843, 0.6544968834012508, 0.6353517364733791, 0.6567230632765847]"
      ]
     },
     "execution_count": 541,
     "metadata": {},
     "output_type": "execute_result"
    }
   ],
   "source": [
    "all_scores"
   ]
  },
  {
   "cell_type": "markdown",
   "metadata": {},
   "source": [
    "## Calculation of average of the four trainings:"
   ]
  },
  {
   "cell_type": "code",
   "execution_count": 542,
   "metadata": {},
   "outputs": [
    {
     "data": {
      "text/plain": [
       "0.6429207480495144"
      ]
     },
     "execution_count": 542,
     "metadata": {},
     "output_type": "execute_result"
    }
   ],
   "source": [
    "np.mean(all_scores)"
   ]
  },
  {
   "cell_type": "markdown",
   "metadata": {},
   "source": [
    "We can see that in this case the average is 64% while the accuracy on the computation presented in problem 1 shows an accuracy of 76%. Thus, using the original calculation with 10 epochs offers the best results."
   ]
  },
  {
   "cell_type": "markdown",
   "metadata": {},
   "source": [
    "## Problem 3"
   ]
  },
  {
   "cell_type": "markdown",
   "metadata": {},
   "source": [
    "## Creation of the original network with epochs =10"
   ]
  },
  {
   "cell_type": "markdown",
   "metadata": {},
   "source": [
    "To test the effect of L2 regularization of epochs =10, first I ran the original model:"
   ]
  },
  {
   "cell_type": "code",
   "execution_count": 206,
   "metadata": {},
   "outputs": [],
   "source": [
    "from keras import models\n",
    "from keras import layers\n",
    "from keras import regularizers\n",
    "\n",
    "original_model = models.Sequential()\n",
    "original_model.add(layers.Dense(16, activation='relu', input_shape=(10000,)))\n",
    "original_model.add(layers.Dense(16, activation='relu'))\n",
    "original_model.add(layers.Dense(1, activation='sigmoid'))\n",
    "\n",
    "original_model.compile(optimizer='rmsprop',\n",
    "                       loss='binary_crossentropy',\n",
    "                       metrics=['accuracy'])"
   ]
  },
  {
   "cell_type": "code",
   "execution_count": 207,
   "metadata": {},
   "outputs": [
    {
     "name": "stdout",
     "output_type": "stream",
     "text": [
      "Train on 8982 samples, validate on 2246 samples\n",
      "Epoch 1/10\n",
      "8982/8982 [==============================] - 4s 472us/step - loss: -9.3334 - acc: 0.0466 - val_loss: -20.7368 - val_acc: 0.0467\n",
      "Epoch 2/10\n",
      "8982/8982 [==============================] - 2s 213us/step - loss: -31.1882 - acc: 0.0481 - val_loss: -47.6230 - val_acc: 0.0467\n",
      "Epoch 3/10\n",
      "8982/8982 [==============================] - 2s 243us/step - loss: -58.5858 - acc: 0.0481 - val_loss: -74.1285 - val_acc: 0.0467\n",
      "Epoch 4/10\n",
      "8982/8982 [==============================] - 2s 218us/step - loss: -83.0741 - acc: 0.0481 - val_loss: -94.6759 - val_acc: 0.0467\n",
      "Epoch 5/10\n",
      "8982/8982 [==============================] - 2s 223us/step - loss: -101.0788 - acc: 0.0481 - val_loss: -109.0708 - val_acc: 0.0467\n",
      "Epoch 6/10\n",
      "8982/8982 [==============================] - 2s 221us/step - loss: -113.2166 - acc: 0.0481 - val_loss: -117.5196 - val_acc: 0.0467\n",
      "Epoch 7/10\n",
      "8982/8982 [==============================] - 2s 217us/step - loss: -119.3594 - acc: 0.0481 - val_loss: -121.6199 - val_acc: 0.0467\n",
      "Epoch 8/10\n",
      "8982/8982 [==============================] - 2s 186us/step - loss: -122.1261 - acc: 0.0481 - val_loss: -123.6147 - val_acc: 0.0467\n",
      "Epoch 9/10\n",
      "8982/8982 [==============================] - 2s 200us/step - loss: -123.7406 - acc: 0.0481 - val_loss: -124.7505 - val_acc: 0.0467\n",
      "Epoch 10/10\n",
      "8982/8982 [==============================] - 2s 186us/step - loss: -124.6924 - acc: 0.0481 - val_loss: -125.4707 - val_acc: 0.0467\n"
     ]
    }
   ],
   "source": [
    "original_hist = original_model.fit(x_train, y_train,\n",
    "                                   epochs=10,\n",
    "                                   batch_size=512,\n",
    "                                   validation_data=(x_test, y_test))"
   ]
  },
  {
   "cell_type": "code",
   "execution_count": 208,
   "metadata": {},
   "outputs": [],
   "source": [
    "smaller_model = models.Sequential()\n",
    "smaller_model.add(layers.Dense(16, activation='relu', input_shape=(10000,)))\n",
    "smaller_model.add(layers.Dense(16, activation='relu'))\n",
    "smaller_model.add(layers.Dense(1, activation='sigmoid'))\n",
    "\n",
    "smaller_model.compile(optimizer='rmsprop',\n",
    "                      loss='binary_crossentropy',\n",
    "                      metrics=['accuracy'])"
   ]
  },
  {
   "cell_type": "code",
   "execution_count": 209,
   "metadata": {},
   "outputs": [
    {
     "name": "stdout",
     "output_type": "stream",
     "text": [
      "Train on 8982 samples, validate on 2246 samples\n",
      "Epoch 1/10\n",
      "8982/8982 [==============================] - 7s 753us/step - loss: -1.8999 - acc: 0.0434 - val_loss: -6.6940 - val_acc: 0.0467\n",
      "Epoch 2/10\n",
      "8982/8982 [==============================] - 2s 238us/step - loss: -11.5589 - acc: 0.0481 - val_loss: -19.7597 - val_acc: 0.0467\n",
      "Epoch 3/10\n",
      "8982/8982 [==============================] - 2s 254us/step - loss: -28.2315 - acc: 0.0481 - val_loss: -41.7669 - val_acc: 0.0467\n",
      "Epoch 4/10\n",
      "8982/8982 [==============================] - 2s 267us/step - loss: -51.8117 - acc: 0.0481 - val_loss: -66.6368 - val_acc: 0.0467\n",
      "Epoch 5/10\n",
      "8982/8982 [==============================] - 2s 226us/step - loss: -76.0311 - acc: 0.0481 - val_loss: -88.4701 - val_acc: 0.0467\n",
      "Epoch 6/10\n",
      "8982/8982 [==============================] - 2s 192us/step - loss: -95.5657 - acc: 0.0481 - val_loss: -104.5473 - val_acc: 0.0467\n",
      "Epoch 7/10\n",
      "8982/8982 [==============================] - 2s 220us/step - loss: -109.5821 - acc: 0.0481 - val_loss: -115.0321 - val_acc: 0.0467\n",
      "Epoch 8/10\n",
      "8982/8982 [==============================] - 2s 234us/step - loss: -117.4840 - acc: 0.0481 - val_loss: -120.2683 - val_acc: 0.0467\n",
      "Epoch 9/10\n",
      "8982/8982 [==============================] - 2s 205us/step - loss: -121.1167 - acc: 0.0481 - val_loss: -122.9124 - val_acc: 0.0467\n",
      "Epoch 10/10\n",
      "8982/8982 [==============================] - 2s 226us/step - loss: -123.2129 - acc: 0.0481 - val_loss: -124.4190 - val_acc: 0.0467\n"
     ]
    }
   ],
   "source": [
    "smaller_model_hist = smaller_model.fit(x_train, y_train,\n",
    "                                       epochs=10,\n",
    "                                       batch_size=512,\n",
    "                                       validation_data=(x_test, y_test))"
   ]
  },
  {
   "cell_type": "markdown",
   "metadata": {},
   "source": [
    "## Adding weight regularization with Lambda = 0.001"
   ]
  },
  {
   "cell_type": "code",
   "execution_count": 210,
   "metadata": {},
   "outputs": [],
   "source": [
    "l2_model = models.Sequential()\n",
    "l2_model.add(layers.Dense(16, kernel_regularizer=regularizers.l2(0.001),\n",
    "                          activation='relu', input_shape=(10000,)))\n",
    "l2_model.add(layers.Dense(16, kernel_regularizer=regularizers.l2(0.001),\n",
    "                          activation='relu'))\n",
    "l2_model.add(layers.Dense(1, activation='sigmoid'))"
   ]
  },
  {
   "cell_type": "code",
   "execution_count": 211,
   "metadata": {},
   "outputs": [],
   "source": [
    "y_train = np.array(train_labels)\n",
    "y_test = np.array(test_labels)"
   ]
  },
  {
   "cell_type": "code",
   "execution_count": 212,
   "metadata": {},
   "outputs": [],
   "source": [
    "l2_model.compile(optimizer='rmsprop',\n",
    "                 loss='binary_crossentropy',\n",
    "                 metrics=['accuracy'])"
   ]
  },
  {
   "cell_type": "code",
   "execution_count": 213,
   "metadata": {},
   "outputs": [
    {
     "name": "stdout",
     "output_type": "stream",
     "text": [
      "Train on 8982 samples, validate on 2246 samples\n",
      "Epoch 1/10\n",
      "8982/8982 [==============================] - 4s 462us/step - loss: -18.3935 - acc: 0.0480 - val_loss: -41.2893 - val_acc: 0.0467\n",
      "Epoch 2/10\n",
      "8982/8982 [==============================] - 2s 228us/step - loss: -57.1127 - acc: 0.0481 - val_loss: -77.0821 - val_acc: 0.0467\n",
      "Epoch 3/10\n",
      "8982/8982 [==============================] - 2s 211us/step - loss: -88.3659 - acc: 0.0481 - val_loss: -101.5469 - val_acc: 0.0467\n",
      "Epoch 4/10\n",
      "8982/8982 [==============================] - 2s 202us/step - loss: -108.5377 - acc: 0.0481 - val_loss: -115.7287 - val_acc: 0.0467\n",
      "Epoch 5/10\n",
      "8982/8982 [==============================] - 2s 195us/step - loss: -118.4782 - acc: 0.0481 - val_loss: -121.4143 - val_acc: 0.0467\n",
      "Epoch 6/10\n",
      "8982/8982 [==============================] - 2s 204us/step - loss: -122.2487 - acc: 0.0481 - val_loss: -123.9290 - val_acc: 0.0467\n",
      "Epoch 7/10\n",
      "8982/8982 [==============================] - 2s 230us/step - loss: -124.0985 - acc: 0.0481 - val_loss: -125.1074 - val_acc: 0.0467\n",
      "Epoch 8/10\n",
      "8982/8982 [==============================] - 2s 204us/step - loss: -125.0147 - acc: 0.0481 - val_loss: -125.7452 - val_acc: 0.0467\n",
      "Epoch 9/10\n",
      "8982/8982 [==============================] - 2s 217us/step - loss: -125.4503 - acc: 0.0481 - val_loss: -125.9936 - val_acc: 0.0467\n",
      "Epoch 10/10\n",
      "8982/8982 [==============================] - 2s 214us/step - loss: -125.5898 - acc: 0.0481 - val_loss: -126.0594 - val_acc: 0.0467\n"
     ]
    }
   ],
   "source": [
    "l2_model_hist = l2_model.fit(x_train, y_train,\n",
    "                             epochs=10,\n",
    "                             batch_size=512,\n",
    "                             validation_data=(x_test, y_test))"
   ]
  },
  {
   "cell_type": "code",
   "execution_count": 214,
   "metadata": {},
   "outputs": [],
   "source": [
    "epochs = range(1, 11)\n",
    "original_val_loss = original_hist.history['val_loss']\n",
    "smaller_model_val_loss = smaller_model_hist.history['val_loss']"
   ]
  },
  {
   "cell_type": "markdown",
   "metadata": {},
   "source": [
    "## Comparing loss between original model and L2 regularized model with Lambda = 0.001"
   ]
  },
  {
   "cell_type": "code",
   "execution_count": 215,
   "metadata": {},
   "outputs": [
    {
     "data": {
      "image/png": "[encoded data removed]",
      "text/plain": [
       "<matplotlib.figure.Figure at 0x1a7c7f6a908>"
      ]
     },
     "metadata": {},
     "output_type": "display_data"
    }
   ],
   "source": [
    "import matplotlib.pyplot as plt\n",
    "l2_model_val_loss = l2_model_hist.history['val_loss']\n",
    "\n",
    "plt.plot(epochs, original_val_loss, 'b+', label='Original model')\n",
    "plt.plot(epochs, l2_model_val_loss, 'bo', label='L2-regularized model')\n",
    "plt.xlabel('Epochs')\n",
    "plt.ylabel('Validation loss')\n",
    "plt.legend()\n",
    "\n",
    "plt.show()"
   ]
  },
  {
   "cell_type": "markdown",
   "metadata": {},
   "source": [
    "## Checking weight regularization with Lambda = 0.005"
   ]
  },
  {
   "cell_type": "code",
   "execution_count": 216,
   "metadata": {},
   "outputs": [],
   "source": [
    "l2_model = models.Sequential()\n",
    "l2_model.add(layers.Dense(16, kernel_regularizer=regularizers.l2(0.005),\n",
    "                          activation='relu', input_shape=(10000,)))\n",
    "l2_model.add(layers.Dense(16, kernel_regularizer=regularizers.l2(0.005),\n",
    "                          activation='relu'))\n",
    "l2_model.add(layers.Dense(1, activation='sigmoid'))"
   ]
  },
  {
   "cell_type": "code",
   "execution_count": 217,
   "metadata": {},
   "outputs": [],
   "source": [
    "l2_model.compile(optimizer='rmsprop',\n",
    "                 loss='binary_crossentropy',\n",
    "                 metrics=['accuracy'])"
   ]
  },
  {
   "cell_type": "code",
   "execution_count": 218,
   "metadata": {},
   "outputs": [
    {
     "name": "stdout",
     "output_type": "stream",
     "text": [
      "Train on 8982 samples, validate on 2246 samples\n",
      "Epoch 1/10\n",
      "8982/8982 [==============================] - 5s 542us/step - loss: -16.3553 - acc: 0.0479 - val_loss: -35.2050 - val_acc: 0.0467\n",
      "Epoch 2/10\n",
      "8982/8982 [==============================] - 2s 231us/step - loss: -49.0726 - acc: 0.0481 - val_loss: -67.1280 - val_acc: 0.0467\n",
      "Epoch 3/10\n",
      "8982/8982 [==============================] - 2s 255us/step - loss: -77.8660 - acc: 0.0481 - val_loss: -91.3162 - val_acc: 0.0467\n",
      "Epoch 4/10\n",
      "8982/8982 [==============================] - 2s 212us/step - loss: -98.7123 - acc: 0.0481 - val_loss: -107.8139 - val_acc: 0.0467\n",
      "Epoch 5/10\n",
      "8982/8982 [==============================] - 2s 211us/step - loss: -112.4357 - acc: 0.0481 - val_loss: -117.1609 - val_acc: 0.0467\n",
      "Epoch 6/10\n",
      "8982/8982 [==============================] - 2s 210us/step - loss: -119.0078 - acc: 0.0481 - val_loss: -121.3648 - val_acc: 0.0467\n",
      "Epoch 7/10\n",
      "8982/8982 [==============================] - 2s 204us/step - loss: -121.9872 - acc: 0.0481 - val_loss: -123.5611 - val_acc: 0.0467\n",
      "Epoch 8/10\n",
      "8982/8982 [==============================] - 2s 207us/step - loss: -123.6704 - acc: 0.0481 - val_loss: -124.6480 - val_acc: 0.0467\n",
      "Epoch 9/10\n",
      "8982/8982 [==============================] - 2s 203us/step - loss: -124.5711 - acc: 0.0481 - val_loss: -125.3447 - val_acc: 0.0467\n",
      "Epoch 10/10\n",
      "8982/8982 [==============================] - 2s 210us/step - loss: -125.0854 - acc: 0.0481 - val_loss: -125.6804 - val_acc: 0.0467\n"
     ]
    }
   ],
   "source": [
    "l2_model_hist = l2_model.fit(x_train, y_train,\n",
    "                             epochs=10,\n",
    "                             batch_size=512,\n",
    "                             validation_data=(x_test, y_test))"
   ]
  },
  {
   "cell_type": "markdown",
   "metadata": {},
   "source": [
    "## Comparing loss between original model and L2 regularized model with Lambda = 0.005"
   ]
  },
  {
   "cell_type": "code",
   "execution_count": 219,
   "metadata": {},
   "outputs": [
    {
     "data": {
      "image/png": "[encoded data removed]",
      "text/plain": [
       "<matplotlib.figure.Figure at 0x1a7c83d5c18>"
      ]
     },
     "metadata": {},
     "output_type": "display_data"
    }
   ],
   "source": [
    "epochs = range(1, 11)\n",
    "original_val_loss = original_hist.history['val_loss']\n",
    "smaller_model_val_loss = smaller_model_hist.history['val_loss']\n",
    "import matplotlib.pyplot as plt\n",
    "l2_model_val_loss = l2_model_hist.history['val_loss']\n",
    "\n",
    "plt.plot(epochs, original_val_loss, 'b+', label='Original model')\n",
    "plt.plot(epochs, l2_model_val_loss, 'bo', label='L2-regularized model')\n",
    "plt.xlabel('Epochs')\n",
    "plt.ylabel('Validation loss')\n",
    "plt.legend()\n",
    "\n",
    "plt.show()"
   ]
  },
  {
   "cell_type": "markdown",
   "metadata": {},
   "source": [
    "## Checking weight regularization with Lambda = 0.0005"
   ]
  },
  {
   "cell_type": "code",
   "execution_count": 221,
   "metadata": {},
   "outputs": [],
   "source": [
    "l2_model = models.Sequential()\n",
    "l2_model.add(layers.Dense(16, kernel_regularizer=regularizers.l2(0.0005),\n",
    "                          activation='relu', input_shape=(10000,)))\n",
    "l2_model.add(layers.Dense(16, kernel_regularizer=regularizers.l2(0.0005),\n",
    "                          activation='relu'))\n",
    "l2_model.add(layers.Dense(1, activation='sigmoid'))"
   ]
  },
  {
   "cell_type": "code",
   "execution_count": 222,
   "metadata": {},
   "outputs": [],
   "source": [
    "l2_model.compile(optimizer='rmsprop',\n",
    "                 loss='binary_crossentropy',\n",
    "                 metrics=['accuracy'])"
   ]
  },
  {
   "cell_type": "code",
   "execution_count": 223,
   "metadata": {},
   "outputs": [
    {
     "name": "stdout",
     "output_type": "stream",
     "text": [
      "Train on 8982 samples, validate on 2246 samples\n",
      "Epoch 1/10\n",
      "8982/8982 [==============================] - 4s 499us/step - loss: -18.2215 - acc: 0.0477 - val_loss: -41.7764 - val_acc: 0.0467\n",
      "Epoch 2/10\n",
      "8982/8982 [==============================] - 2s 201us/step - loss: -58.2041 - acc: 0.0481 - val_loss: -77.9773 - val_acc: 0.0467\n",
      "Epoch 3/10\n",
      "8982/8982 [==============================] - 2s 209us/step - loss: -88.5010 - acc: 0.0481 - val_loss: -100.9310 - val_acc: 0.0467\n",
      "Epoch 4/10\n",
      "8982/8982 [==============================] - 2s 203us/step - loss: -107.9690 - acc: 0.0481 - val_loss: -115.2836 - val_acc: 0.0467\n",
      "Epoch 5/10\n",
      "8982/8982 [==============================] - 2s 223us/step - loss: -118.1409 - acc: 0.0481 - val_loss: -121.1898 - val_acc: 0.0467\n",
      "Epoch 6/10\n",
      "8982/8982 [==============================] - 2s 222us/step - loss: -122.1001 - acc: 0.0481 - val_loss: -123.9194 - val_acc: 0.0467\n",
      "Epoch 7/10\n",
      "8982/8982 [==============================] - 2s 205us/step - loss: -124.0826 - acc: 0.0481 - val_loss: -125.1253 - val_acc: 0.0467\n",
      "Epoch 8/10\n",
      "8982/8982 [==============================] - 2s 187us/step - loss: -125.0229 - acc: 0.0481 - val_loss: -125.7351 - val_acc: 0.0467\n",
      "Epoch 9/10\n",
      "8982/8982 [==============================] - 2s 193us/step - loss: -125.4518 - acc: 0.0481 - val_loss: -126.0108 - val_acc: 0.0467\n",
      "Epoch 10/10\n",
      "8982/8982 [==============================] - 2s 191us/step - loss: -125.6113 - acc: 0.0481 - val_loss: -126.0848 - val_acc: 0.0467\n"
     ]
    }
   ],
   "source": [
    "l2_model_hist = l2_model.fit(x_train, y_train,\n",
    "                             epochs=10,\n",
    "                             batch_size=512,\n",
    "                             validation_data=(x_test, y_test))"
   ]
  },
  {
   "cell_type": "markdown",
   "metadata": {},
   "source": [
    "## Comparing loss between original model and L2 regularized model with Lambda = 0.0005"
   ]
  },
  {
   "cell_type": "code",
   "execution_count": 224,
   "metadata": {},
   "outputs": [
    {
     "data": {
      "image/png": "[encoded data removed]",
      "text/plain": [
       "<matplotlib.figure.Figure at 0x1a7c8c771d0>"
      ]
     },
     "metadata": {},
     "output_type": "display_data"
    }
   ],
   "source": [
    "epochs = range(1, 11)\n",
    "original_val_loss = original_hist.history['val_loss']\n",
    "smaller_model_val_loss = smaller_model_hist.history['val_loss']\n",
    "import matplotlib.pyplot as plt\n",
    "l2_model_val_loss = l2_model_hist.history['val_loss']\n",
    "\n",
    "plt.plot(epochs, original_val_loss, 'b+', label='Original model')\n",
    "plt.plot(epochs, l2_model_val_loss, 'bo', label='L2-regularized model')\n",
    "plt.xlabel('Epochs')\n",
    "plt.ylabel('Validation loss')\n",
    "plt.legend()\n",
    "\n",
    "plt.show()"
   ]
  },
  {
   "cell_type": "code",
   "execution_count": null,
   "metadata": {},
   "outputs": [],
   "source": []
  }
 ],
 "metadata": {
  "kernelspec": {
   "display_name": "Python 3",
   "language": "python",
   "name": "python3"
  },
  "language_info": {
   "codemirror_mode": {
    "name": "ipython",
    "version": 3
   },
   "file_extension": ".py",
   "mimetype": "text/x-python",
   "name": "python",
   "nbconvert_exporter": "python",
   "pygments_lexer": "ipython3",
   "version": "3.7.2"
  }
 },
 "nbformat": 4,
 "nbformat_minor": 2
}
